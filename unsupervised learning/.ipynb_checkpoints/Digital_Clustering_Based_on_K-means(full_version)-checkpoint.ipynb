{
 "cells": [
  {
   "cell_type": "markdown",
   "metadata": {},
   "source": [
    "## Digital Clustering Based on K-means (full version)"
   ]
  },
  {
   "cell_type": "code",
   "execution_count": 97,
   "metadata": {
    "scrolled": false
   },
   "outputs": [
    {
     "name": "stdout",
     "output_type": "stream",
     "text": [
      "Number of instances in the dataset = 1797\n",
      "Number of features = 64\n"
     ]
    }
   ],
   "source": [
    "import time\n",
    "import numpy as np\n",
    "import matplotlib.pyplot as plt\n",
    "from sklearn.datasets import load_digits\n",
    "\n",
    "# We use the digits dataset for clustering.\n",
    "digits = load_digits()\n",
    "data = digits.data\n",
    "label = digits.target\n",
    "num_insts, num_feats = data.shape[0], data.shape[1]\n",
    "print(\"Number of instances in the dataset =\", num_insts)\n",
    "print(\"Number of features =\", num_feats)\n",
    "%matplotlib inline"
   ]
  },
  {
   "cell_type": "code",
   "execution_count": 5,
   "metadata": {
    "scrolled": true
   },
   "outputs": [
    {
     "data": {
      "text/plain": [
       "array([[ 0.,  0.,  0., 12., 13.,  5.,  0.,  0.],\n",
       "       [ 0.,  0.,  0., 11., 16.,  9.,  0.,  0.],\n",
       "       [ 0.,  0.,  3., 15., 16.,  6.,  0.,  0.],\n",
       "       [ 0.,  7., 15., 16., 16.,  2.,  0.,  0.],\n",
       "       [ 0.,  0.,  1., 16., 16.,  3.,  0.,  0.],\n",
       "       [ 0.,  0.,  1., 16., 16.,  6.,  0.,  0.],\n",
       "       [ 0.,  0.,  1., 16., 16.,  6.,  0.,  0.],\n",
       "       [ 0.,  0.,  0., 11., 16., 10.,  0.,  0.]])"
      ]
     },
     "execution_count": 5,
     "metadata": {},
     "output_type": "execute_result"
    }
   ],
   "source": [
    "digits.images[1]"
   ]
  },
  {
   "cell_type": "code",
   "execution_count": 19,
   "metadata": {},
   "outputs": [
    {
     "data": {
      "text/plain": [
       "array([[ 0.,  1.,  8., 12., 15., 14.,  4.,  0.],\n",
       "       [ 0.,  3., 11.,  8.,  8., 12., 12.,  0.],\n",
       "       [ 0.,  0.,  0.,  0.,  2., 13.,  7.,  0.],\n",
       "       [ 0.,  0.,  0.,  2., 15., 12.,  1.,  0.],\n",
       "       [ 0.,  0.,  0.,  0., 13.,  5.,  0.,  0.],\n",
       "       [ 0.,  0.,  0.,  0.,  9., 13.,  0.,  0.],\n",
       "       [ 0.,  0.,  7.,  8., 14., 15.,  0.,  0.],\n",
       "       [ 0.,  0., 14., 15., 11.,  2.,  0.,  0.]])"
      ]
     },
     "execution_count": 19,
     "metadata": {},
     "output_type": "execute_result"
    }
   ],
   "source": [
    "digits.images[23]"
   ]
  },
  {
   "cell_type": "code",
   "execution_count": 83,
   "metadata": {
    "scrolled": true
   },
   "outputs": [
    {
     "name": "stdout",
     "output_type": "stream",
     "text": [
      "标签 3\n"
     ]
    },
    {
     "data": {
      "image/png": "[encoded data removed]",
      "text/plain": [
       "<Figure size 432x288 with 1 Axes>"
      ]
     },
     "metadata": {},
     "output_type": "display_data"
    }
   ],
   "source": [
    "i = 23\n",
    "plt.imshow(digits.images[i])\n",
    "print('标签',label[i])"
   ]
  },
  {
   "cell_type": "code",
   "execution_count": 21,
   "metadata": {},
   "outputs": [
    {
     "data": {
      "text/plain": [
       "array([ 0.,  0.,  0., 12., 13.,  5.,  0.,  0.,  0.,  0.,  0., 11., 16.,\n",
       "        9.,  0.,  0.,  0.,  0.,  3., 15., 16.,  6.,  0.,  0.,  0.,  7.,\n",
       "       15., 16., 16.,  2.,  0.,  0.,  0.,  0.,  1., 16., 16.,  3.,  0.,\n",
       "        0.,  0.,  0.,  1., 16., 16.,  6.,  0.,  0.,  0.,  0.,  1., 16.,\n",
       "       16.,  6.,  0.,  0.,  0.,  0.,  0., 11., 16., 10.,  0.,  0.])"
      ]
     },
     "execution_count": 21,
     "metadata": {},
     "output_type": "execute_result"
    }
   ],
   "source": [
    "digits.data[1]"
   ]
  },
  {
   "cell_type": "code",
   "execution_count": 22,
   "metadata": {},
   "outputs": [
    {
     "name": "stdout",
     "output_type": "stream",
     "text": [
      ".. _digits_dataset:\n",
      "\n",
      "Optical recognition of handwritten digits dataset\n",
      "--------------------------------------------------\n",
      "\n",
      "**Data Set Characteristics:**\n",
      "\n",
      "    :Number of Instances: 5620\n",
      "    :Number of Attributes: 64\n",
      "    :Attribute Information: 8x8 image of integer pixels in the range 0..16.\n",
      "    :Missing Attribute Values: None\n",
      "    :Creator: E. Alpaydin (alpaydin '@' boun.edu.tr)\n",
      "    :Date: July; 1998\n",
      "\n",
      "This is a copy of the test set of the UCI ML hand-written digits datasets\n",
      "http://archive.ics.uci.edu/ml/datasets/Optical+Recognition+of+Handwritten+Digits\n",
      "\n",
      "The data set contains images of hand-written digits: 10 classes where\n",
      "each class refers to a digit.\n",
      "\n",
      "Preprocessing programs made available by NIST were used to extract\n",
      "normalized bitmaps of handwritten digits from a preprinted form. From a\n",
      "total of 43 people, 30 contributed to the training set and different 13\n",
      "to the test set. 32x32 bitmaps are divided into nonoverlapping blocks of\n",
      "4x4 and the number of on pixels are counted in each block. This generates\n",
      "an input matrix of 8x8 where each element is an integer in the range\n",
      "0..16. This reduces dimensionality and gives invariance to small\n",
      "distortions.\n",
      "\n",
      "For info on NIST preprocessing routines, see M. D. Garris, J. L. Blue, G.\n",
      "T. Candela, D. L. Dimmick, J. Geist, P. J. Grother, S. A. Janet, and C.\n",
      "L. Wilson, NIST Form-Based Handprint Recognition System, NISTIR 5469,\n",
      "1994.\n",
      "\n",
      ".. topic:: References\n",
      "\n",
      "  - C. Kaynak (1995) Methods of Combining Multiple Classifiers and Their\n",
      "    Applications to Handwritten Digit Recognition, MSc Thesis, Institute of\n",
      "    Graduate Studies in Science and Engineering, Bogazici University.\n",
      "  - E. Alpaydin, C. Kaynak (1998) Cascading Classifiers, Kybernetika.\n",
      "  - Ken Tang and Ponnuthurai N. Suganthan and Xi Yao and A. Kai Qin.\n",
      "    Linear dimensionalityreduction using relevance weighted LDA. School of\n",
      "    Electrical and Electronic Engineering Nanyang Technological University.\n",
      "    2005.\n",
      "  - Claudio Gentile. A New Approximate Maximal Margin Classification\n",
      "    Algorithm. NIPS. 2000.\n"
     ]
    }
   ],
   "source": [
    "print(digits.DESCR)"
   ]
  },
  {
   "cell_type": "code",
   "execution_count": 23,
   "metadata": {},
   "outputs": [
    {
     "data": {
      "text/plain": [
       "(1797, 64)"
      ]
     },
     "execution_count": 23,
     "metadata": {},
     "output_type": "execute_result"
    }
   ],
   "source": [
    "data.shape"
   ]
  },
  {
   "cell_type": "code",
   "execution_count": 24,
   "metadata": {},
   "outputs": [
    {
     "data": {
      "text/plain": [
       "(1797,)"
      ]
     },
     "execution_count": 24,
     "metadata": {},
     "output_type": "execute_result"
    }
   ],
   "source": [
    "label.shape"
   ]
  },
  {
   "cell_type": "code",
   "execution_count": 98,
   "metadata": {
    "collapsed": true
   },
   "outputs": [],
   "source": [
    "# 洗牌\n",
    "ridx = np.arange(num_insts)\n",
    "np.random.shuffle(ridx)\n",
    "data = data[ridx, :]\n",
    "label = label[ridx]"
   ]
  },
  {
   "cell_type": "code",
   "execution_count": 28,
   "metadata": {
    "scrolled": true
   },
   "outputs": [
    {
     "data": {
      "text/plain": [
       "array([1519,  619,  114, ...,  249,  351,  426])"
      ]
     },
     "execution_count": 28,
     "metadata": {},
     "output_type": "execute_result"
    }
   ],
   "source": [
    "ridx"
   ]
  },
  {
   "cell_type": "code",
   "execution_count": 85,
   "metadata": {},
   "outputs": [
    {
     "name": "stdout",
     "output_type": "stream",
     "text": [
      "K-means聚类共用时 0.01839590072631836 秒。\n"
     ]
    }
   ],
   "source": [
    "# 初始化，聚类数为10，最终聚类结果为10张64像素的图片\n",
    "num_clusters = 10\n",
    "kmeans_centers = np.zeros((num_clusters, num_feats))\n",
    "\n",
    "# 暂且先从数据集中选前十张图片作为初始的聚类结果\n",
    "kmeans_centers = data[:num_clusters, :]\n",
    "\n",
    "# 迭代次数为10，将每一次迭代的损失值放在losses列表里\n",
    "num_iters = 10\n",
    "losses = np.zeros(num_iters)\n",
    "start_time = time.time()\n",
    "for i in range(num_iters):\n",
    "    # Compute the distance of each instance to each cluster center. \n",
    "    inst_sqs = np.sum(data * data, axis=1, keepdims=True)\n",
    "    center_sqs = np.sum(kmeans_centers * kmeans_centers, axis=1)\n",
    "    inner_prod = np.dot(data, kmeans_centers.T)\n",
    "    # Get an num_insts x num_centers matrix D. D_ij = ||x_i - u_j||^2\n",
    "    dist = inst_sqs + center_sqs - 2 * inner_prod\n",
    "    # Compute the loss in current iteration.\n",
    "    losses[i] = np.mean(np.min(dist, axis=1))\n",
    "    # Compute cluster assignment in current iteration.\n",
    "    cluster_ids = np.argmin(dist, axis=1)\n",
    "    # Update cluster center.\n",
    "    for j in range(num_clusters):\n",
    "        # d是被划归为j类的所有图片\n",
    "        d = data[cluster_ids == j, :]\n",
    "        kmeans_centers[j, :] = np.mean(d, axis=0)\n",
    "end_time = time.time()\n",
    "print(\"K-means聚类共用时\", end_time - start_time, \"秒。\")"
   ]
  },
  {
   "cell_type": "code",
   "execution_count": 78,
   "metadata": {},
   "outputs": [
    {
     "name": "stdout",
     "output_type": "stream",
     "text": [
      "K-means聚类共用时 0.25318241119384766 秒。\n"
     ]
    }
   ],
   "source": [
    "# 张子豪2\n",
    "# 初始化，聚类数为10，最终聚类结果为10张64像素的图片\n",
    "num_clusters = 10\n",
    "kmeans_centers = np.zeros((num_clusters, num_feats))\n",
    "\n",
    "# 暂且先从数据集中选前十张图片作为初始的聚类结果\n",
    "kmeans_centers = data[:num_clusters, :]\n",
    "\n",
    "# 迭代次数为10，将每一次迭代的损失值放在losses列表里\n",
    "num_iters = 10\n",
    "losses = np.zeros(num_iters)\n",
    "dist = np.zeros((num_insts, num_clusters))\n",
    "start_time = time.time()\n",
    "for i in range(num_iters):\n",
    "    \n",
    "    for j in range(num_insts):\n",
    "        dist[j,:] = np.sqrt(np.sum((data[j,:]-kmeans_centers)**2,axis=1))\n",
    "    # Compute the distance of each instance to each cluster center. \n",
    "#     inst_sqs = np.sum(data * data, axis=1, keepdims=True)\n",
    "#     center_sqs = np.sum(kmeans_centers * kmeans_centers, axis=1)\n",
    "#     inner_prod = np.dot(data, kmeans_centers.T)\n",
    "#     # Get an num_insts x num_centers matrix D. D_ij = ||x_i - u_j||^2\n",
    "#     dist = inst_sqs + center_sqs - 2 * inner_prod\n",
    "    # Compute the loss in current iteration.\n",
    "    losses[i] = np.mean(np.min(dist, axis=1))\n",
    "    # Compute cluster assignment in current iteration.\n",
    "    cluster_ids = np.argmin(dist, axis=1)\n",
    "    # Update cluster center.\n",
    "    for j in range(num_clusters):\n",
    "        # d是被划归为j类的所有图片\n",
    "        d = data[cluster_ids == j, :]\n",
    "        kmeans_centers[j, :] = np.mean(d, axis=0)\n",
    "end_time = time.time()\n",
    "print(\"K-means聚类共用时\", end_time - start_time, \"秒。\")"
   ]
  },
  {
   "cell_type": "code",
   "execution_count": 34,
   "metadata": {
    "scrolled": true
   },
   "outputs": [
    {
     "data": {
      "text/plain": [
       "(1795, 64)"
      ]
     },
     "execution_count": 34,
     "metadata": {},
     "output_type": "execute_result"
    }
   ],
   "source": [
    "data[2:].shape"
   ]
  },
  {
   "cell_type": "code",
   "execution_count": 33,
   "metadata": {},
   "outputs": [
    {
     "data": {
      "text/plain": [
       "(10, 64)"
      ]
     },
     "execution_count": 33,
     "metadata": {},
     "output_type": "execute_result"
    }
   ],
   "source": [
    "kmeans_centers.shape"
   ]
  },
  {
   "cell_type": "code",
   "execution_count": 35,
   "metadata": {
    "collapsed": true
   },
   "outputs": [],
   "source": [
    "a = np.ones((1795,64))"
   ]
  },
  {
   "cell_type": "code",
   "execution_count": 42,
   "metadata": {
    "scrolled": true
   },
   "outputs": [
    {
     "data": {
      "text/plain": [
       "array([1., 1., 1., 1., 1., 1., 1., 1., 1., 1., 1., 1., 1., 1., 1., 1., 1.,\n",
       "       1., 1., 1., 1., 1., 1., 1., 1., 1., 1., 1., 1., 1., 1., 1., 1., 1.,\n",
       "       1., 1., 1., 1., 1., 1., 1., 1., 1., 1., 1., 1., 1., 1., 1., 1., 1.,\n",
       "       1., 1., 1., 1., 1., 1., 1., 1., 1., 1., 1., 1., 1.])"
      ]
     },
     "execution_count": 42,
     "metadata": {},
     "output_type": "execute_result"
    }
   ],
   "source": [
    "a[2]"
   ]
  },
  {
   "cell_type": "code",
   "execution_count": 37,
   "metadata": {
    "collapsed": true
   },
   "outputs": [],
   "source": [
    "b = np.arange(640).reshape(10,64)"
   ]
  },
  {
   "cell_type": "code",
   "execution_count": 40,
   "metadata": {},
   "outputs": [
    {
     "data": {
      "text/plain": [
       "array([[  0,   1,   2,   3,   4,   5,   6,   7,   8,   9,  10,  11,  12,\n",
       "         13,  14,  15,  16,  17,  18,  19,  20,  21,  22,  23,  24,  25,\n",
       "         26,  27,  28,  29,  30,  31,  32,  33,  34,  35,  36,  37,  38,\n",
       "         39,  40,  41,  42,  43,  44,  45,  46,  47,  48,  49,  50,  51,\n",
       "         52,  53,  54,  55,  56,  57,  58,  59,  60,  61,  62,  63],\n",
       "       [ 64,  65,  66,  67,  68,  69,  70,  71,  72,  73,  74,  75,  76,\n",
       "         77,  78,  79,  80,  81,  82,  83,  84,  85,  86,  87,  88,  89,\n",
       "         90,  91,  92,  93,  94,  95,  96,  97,  98,  99, 100, 101, 102,\n",
       "        103, 104, 105, 106, 107, 108, 109, 110, 111, 112, 113, 114, 115,\n",
       "        116, 117, 118, 119, 120, 121, 122, 123, 124, 125, 126, 127],\n",
       "       [128, 129, 130, 131, 132, 133, 134, 135, 136, 137, 138, 139, 140,\n",
       "        141, 142, 143, 144, 145, 146, 147, 148, 149, 150, 151, 152, 153,\n",
       "        154, 155, 156, 157, 158, 159, 160, 161, 162, 163, 164, 165, 166,\n",
       "        167, 168, 169, 170, 171, 172, 173, 174, 175, 176, 177, 178, 179,\n",
       "        180, 181, 182, 183, 184, 185, 186, 187, 188, 189, 190, 191],\n",
       "       [192, 193, 194, 195, 196, 197, 198, 199, 200, 201, 202, 203, 204,\n",
       "        205, 206, 207, 208, 209, 210, 211, 212, 213, 214, 215, 216, 217,\n",
       "        218, 219, 220, 221, 222, 223, 224, 225, 226, 227, 228, 229, 230,\n",
       "        231, 232, 233, 234, 235, 236, 237, 238, 239, 240, 241, 242, 243,\n",
       "        244, 245, 246, 247, 248, 249, 250, 251, 252, 253, 254, 255],\n",
       "       [256, 257, 258, 259, 260, 261, 262, 263, 264, 265, 266, 267, 268,\n",
       "        269, 270, 271, 272, 273, 274, 275, 276, 277, 278, 279, 280, 281,\n",
       "        282, 283, 284, 285, 286, 287, 288, 289, 290, 291, 292, 293, 294,\n",
       "        295, 296, 297, 298, 299, 300, 301, 302, 303, 304, 305, 306, 307,\n",
       "        308, 309, 310, 311, 312, 313, 314, 315, 316, 317, 318, 319],\n",
       "       [320, 321, 322, 323, 324, 325, 326, 327, 328, 329, 330, 331, 332,\n",
       "        333, 334, 335, 336, 337, 338, 339, 340, 341, 342, 343, 344, 345,\n",
       "        346, 347, 348, 349, 350, 351, 352, 353, 354, 355, 356, 357, 358,\n",
       "        359, 360, 361, 362, 363, 364, 365, 366, 367, 368, 369, 370, 371,\n",
       "        372, 373, 374, 375, 376, 377, 378, 379, 380, 381, 382, 383],\n",
       "       [384, 385, 386, 387, 388, 389, 390, 391, 392, 393, 394, 395, 396,\n",
       "        397, 398, 399, 400, 401, 402, 403, 404, 405, 406, 407, 408, 409,\n",
       "        410, 411, 412, 413, 414, 415, 416, 417, 418, 419, 420, 421, 422,\n",
       "        423, 424, 425, 426, 427, 428, 429, 430, 431, 432, 433, 434, 435,\n",
       "        436, 437, 438, 439, 440, 441, 442, 443, 444, 445, 446, 447],\n",
       "       [448, 449, 450, 451, 452, 453, 454, 455, 456, 457, 458, 459, 460,\n",
       "        461, 462, 463, 464, 465, 466, 467, 468, 469, 470, 471, 472, 473,\n",
       "        474, 475, 476, 477, 478, 479, 480, 481, 482, 483, 484, 485, 486,\n",
       "        487, 488, 489, 490, 491, 492, 493, 494, 495, 496, 497, 498, 499,\n",
       "        500, 501, 502, 503, 504, 505, 506, 507, 508, 509, 510, 511],\n",
       "       [512, 513, 514, 515, 516, 517, 518, 519, 520, 521, 522, 523, 524,\n",
       "        525, 526, 527, 528, 529, 530, 531, 532, 533, 534, 535, 536, 537,\n",
       "        538, 539, 540, 541, 542, 543, 544, 545, 546, 547, 548, 549, 550,\n",
       "        551, 552, 553, 554, 555, 556, 557, 558, 559, 560, 561, 562, 563,\n",
       "        564, 565, 566, 567, 568, 569, 570, 571, 572, 573, 574, 575],\n",
       "       [576, 577, 578, 579, 580, 581, 582, 583, 584, 585, 586, 587, 588,\n",
       "        589, 590, 591, 592, 593, 594, 595, 596, 597, 598, 599, 600, 601,\n",
       "        602, 603, 604, 605, 606, 607, 608, 609, 610, 611, 612, 613, 614,\n",
       "        615, 616, 617, 618, 619, 620, 621, 622, 623, 624, 625, 626, 627,\n",
       "        628, 629, 630, 631, 632, 633, 634, 635, 636, 637, 638, 639]])"
      ]
     },
     "execution_count": 40,
     "metadata": {},
     "output_type": "execute_result"
    }
   ],
   "source": [
    "b"
   ]
  },
  {
   "cell_type": "code",
   "execution_count": 44,
   "metadata": {},
   "outputs": [],
   "source": [
    "c = a[2]-b"
   ]
  },
  {
   "cell_type": "code",
   "execution_count": 46,
   "metadata": {},
   "outputs": [
    {
     "data": {
      "text/plain": [
       "(10, 64)"
      ]
     },
     "execution_count": 46,
     "metadata": {},
     "output_type": "execute_result"
    }
   ],
   "source": [
    "c.shape"
   ]
  },
  {
   "cell_type": "code",
   "execution_count": 47,
   "metadata": {
    "scrolled": true
   },
   "outputs": [
    {
     "data": {
      "text/plain": [
       "array([[   1.,    0.,   -1.,   -2.,   -3.,   -4.,   -5.,   -6.,   -7.,\n",
       "          -8.,   -9.,  -10.,  -11.,  -12.,  -13.,  -14.,  -15.,  -16.,\n",
       "         -17.,  -18.,  -19.,  -20.,  -21.,  -22.,  -23.,  -24.,  -25.,\n",
       "         -26.,  -27.,  -28.,  -29.,  -30.,  -31.,  -32.,  -33.,  -34.,\n",
       "         -35.,  -36.,  -37.,  -38.,  -39.,  -40.,  -41.,  -42.,  -43.,\n",
       "         -44.,  -45.,  -46.,  -47.,  -48.,  -49.,  -50.,  -51.,  -52.,\n",
       "         -53.,  -54.,  -55.,  -56.,  -57.,  -58.,  -59.,  -60.,  -61.,\n",
       "         -62.],\n",
       "       [ -63.,  -64.,  -65.,  -66.,  -67.,  -68.,  -69.,  -70.,  -71.,\n",
       "         -72.,  -73.,  -74.,  -75.,  -76.,  -77.,  -78.,  -79.,  -80.,\n",
       "         -81.,  -82.,  -83.,  -84.,  -85.,  -86.,  -87.,  -88.,  -89.,\n",
       "         -90.,  -91.,  -92.,  -93.,  -94.,  -95.,  -96.,  -97.,  -98.,\n",
       "         -99., -100., -101., -102., -103., -104., -105., -106., -107.,\n",
       "        -108., -109., -110., -111., -112., -113., -114., -115., -116.,\n",
       "        -117., -118., -119., -120., -121., -122., -123., -124., -125.,\n",
       "        -126.],\n",
       "       [-127., -128., -129., -130., -131., -132., -133., -134., -135.,\n",
       "        -136., -137., -138., -139., -140., -141., -142., -143., -144.,\n",
       "        -145., -146., -147., -148., -149., -150., -151., -152., -153.,\n",
       "        -154., -155., -156., -157., -158., -159., -160., -161., -162.,\n",
       "        -163., -164., -165., -166., -167., -168., -169., -170., -171.,\n",
       "        -172., -173., -174., -175., -176., -177., -178., -179., -180.,\n",
       "        -181., -182., -183., -184., -185., -186., -187., -188., -189.,\n",
       "        -190.],\n",
       "       [-191., -192., -193., -194., -195., -196., -197., -198., -199.,\n",
       "        -200., -201., -202., -203., -204., -205., -206., -207., -208.,\n",
       "        -209., -210., -211., -212., -213., -214., -215., -216., -217.,\n",
       "        -218., -219., -220., -221., -222., -223., -224., -225., -226.,\n",
       "        -227., -228., -229., -230., -231., -232., -233., -234., -235.,\n",
       "        -236., -237., -238., -239., -240., -241., -242., -243., -244.,\n",
       "        -245., -246., -247., -248., -249., -250., -251., -252., -253.,\n",
       "        -254.],\n",
       "       [-255., -256., -257., -258., -259., -260., -261., -262., -263.,\n",
       "        -264., -265., -266., -267., -268., -269., -270., -271., -272.,\n",
       "        -273., -274., -275., -276., -277., -278., -279., -280., -281.,\n",
       "        -282., -283., -284., -285., -286., -287., -288., -289., -290.,\n",
       "        -291., -292., -293., -294., -295., -296., -297., -298., -299.,\n",
       "        -300., -301., -302., -303., -304., -305., -306., -307., -308.,\n",
       "        -309., -310., -311., -312., -313., -314., -315., -316., -317.,\n",
       "        -318.],\n",
       "       [-319., -320., -321., -322., -323., -324., -325., -326., -327.,\n",
       "        -328., -329., -330., -331., -332., -333., -334., -335., -336.,\n",
       "        -337., -338., -339., -340., -341., -342., -343., -344., -345.,\n",
       "        -346., -347., -348., -349., -350., -351., -352., -353., -354.,\n",
       "        -355., -356., -357., -358., -359., -360., -361., -362., -363.,\n",
       "        -364., -365., -366., -367., -368., -369., -370., -371., -372.,\n",
       "        -373., -374., -375., -376., -377., -378., -379., -380., -381.,\n",
       "        -382.],\n",
       "       [-383., -384., -385., -386., -387., -388., -389., -390., -391.,\n",
       "        -392., -393., -394., -395., -396., -397., -398., -399., -400.,\n",
       "        -401., -402., -403., -404., -405., -406., -407., -408., -409.,\n",
       "        -410., -411., -412., -413., -414., -415., -416., -417., -418.,\n",
       "        -419., -420., -421., -422., -423., -424., -425., -426., -427.,\n",
       "        -428., -429., -430., -431., -432., -433., -434., -435., -436.,\n",
       "        -437., -438., -439., -440., -441., -442., -443., -444., -445.,\n",
       "        -446.],\n",
       "       [-447., -448., -449., -450., -451., -452., -453., -454., -455.,\n",
       "        -456., -457., -458., -459., -460., -461., -462., -463., -464.,\n",
       "        -465., -466., -467., -468., -469., -470., -471., -472., -473.,\n",
       "        -474., -475., -476., -477., -478., -479., -480., -481., -482.,\n",
       "        -483., -484., -485., -486., -487., -488., -489., -490., -491.,\n",
       "        -492., -493., -494., -495., -496., -497., -498., -499., -500.,\n",
       "        -501., -502., -503., -504., -505., -506., -507., -508., -509.,\n",
       "        -510.],\n",
       "       [-511., -512., -513., -514., -515., -516., -517., -518., -519.,\n",
       "        -520., -521., -522., -523., -524., -525., -526., -527., -528.,\n",
       "        -529., -530., -531., -532., -533., -534., -535., -536., -537.,\n",
       "        -538., -539., -540., -541., -542., -543., -544., -545., -546.,\n",
       "        -547., -548., -549., -550., -551., -552., -553., -554., -555.,\n",
       "        -556., -557., -558., -559., -560., -561., -562., -563., -564.,\n",
       "        -565., -566., -567., -568., -569., -570., -571., -572., -573.,\n",
       "        -574.],\n",
       "       [-575., -576., -577., -578., -579., -580., -581., -582., -583.,\n",
       "        -584., -585., -586., -587., -588., -589., -590., -591., -592.,\n",
       "        -593., -594., -595., -596., -597., -598., -599., -600., -601.,\n",
       "        -602., -603., -604., -605., -606., -607., -608., -609., -610.,\n",
       "        -611., -612., -613., -614., -615., -616., -617., -618., -619.,\n",
       "        -620., -621., -622., -623., -624., -625., -626., -627., -628.,\n",
       "        -629., -630., -631., -632., -633., -634., -635., -636., -637.,\n",
       "        -638.]])"
      ]
     },
     "execution_count": 47,
     "metadata": {},
     "output_type": "execute_result"
    }
   ],
   "source": [
    "c"
   ]
  },
  {
   "cell_type": "code",
   "execution_count": 62,
   "metadata": {},
   "outputs": [],
   "source": [
    "d = np.power(a[2]-b,2)"
   ]
  },
  {
   "cell_type": "code",
   "execution_count": 66,
   "metadata": {},
   "outputs": [
    {
     "data": {
      "text/plain": [
       "(10, 64)"
      ]
     },
     "execution_count": 66,
     "metadata": {},
     "output_type": "execute_result"
    }
   ],
   "source": [
    "d.shape"
   ]
  },
  {
   "cell_type": "code",
   "execution_count": 63,
   "metadata": {},
   "outputs": [],
   "source": [
    "e = np.sum(d,axis=1)"
   ]
  },
  {
   "cell_type": "code",
   "execution_count": 67,
   "metadata": {},
   "outputs": [
    {
     "data": {
      "text/plain": [
       "(10,)"
      ]
     },
     "execution_count": 67,
     "metadata": {},
     "output_type": "execute_result"
    }
   ],
   "source": [
    "e.shape"
   ]
  },
  {
   "cell_type": "code",
   "execution_count": 58,
   "metadata": {
    "collapsed": true
   },
   "outputs": [],
   "source": [
    "f = np.sqrt(e)"
   ]
  },
  {
   "cell_type": "code",
   "execution_count": 59,
   "metadata": {},
   "outputs": [
    {
     "data": {
      "text/plain": [
       "array([ 285.26478927,  770.3090289 , 1276.58293894, 1786.12429579,\n",
       "       2296.75945628, 2807.8917358 , 3319.29149066, 3830.85160245,\n",
       "       4342.51540009, 4854.25009656])"
      ]
     },
     "execution_count": 59,
     "metadata": {},
     "output_type": "execute_result"
    }
   ],
   "source": [
    "f"
   ]
  },
  {
   "cell_type": "code",
   "execution_count": null,
   "metadata": {
    "collapsed": true
   },
   "outputs": [],
   "source": [
    "distance = (data[2:]-kmeans_centers)**2"
   ]
  },
  {
   "cell_type": "code",
   "execution_count": 99,
   "metadata": {},
   "outputs": [
    {
     "name": "stdout",
     "output_type": "stream",
     "text": [
      "K-means聚类共用时 0.18952274322509766 秒。\n"
     ]
    }
   ],
   "source": [
    "# 张子豪注释版\n",
    "# 初始化，聚类数为10，最终聚类结果为10张64像素的图片\n",
    "num_clusters = 10\n",
    "kmeans_centers = np.zeros((10, 64))\n",
    "\n",
    "# 暂且先从数据集中选前十张图片作为初始的聚类结果\n",
    "kmeans_centers = data[:10, :]\n",
    "\n",
    "# 迭代次数为7，将每一次迭代的损失值放在losses列表里\n",
    "num_iters = 7\n",
    "losses = np.zeros(7)\n",
    "# dist存储每张图片与10个聚类中心图片的距离，是1797*10的矩阵\n",
    "dist = np.zeros((1797, 10))\n",
    "\n",
    "start_time = time.time()\n",
    "for i in range(num_iters):\n",
    "    \n",
    "    for j in range(num_insts):\n",
    "        # 将图片j中的64个像素与聚类结果的10张图片各自的64个像素 做差再平方，得到10*64矩阵\n",
    "        # distance = np.power(data[j,:]-kmeans_centers,2)\n",
    "        distance = (data[j,:]-kmeans_centers)**2\n",
    "        # 对矩阵中每一行求和，得到10*1矩阵，矩阵元素表示图j与每个聚类中心图片的距离平方和\n",
    "        distance = np.sum(distance,axis=1)\n",
    "        # 再开平方\n",
    "        distance = np.sqrt(distance)\n",
    "        dist[j,:] = distance\n",
    "    \n",
    "    # 找到每张图片对应最近聚类中心的距离平均值，作为损失函数\n",
    "    losses[i] = np.mean(np.min(dist,axis=1))\n",
    "    \n",
    "    # 找到每张图片对应的聚类中心\n",
    "    cluster_ids = np.argmin(dist,axis=1)\n",
    "\n",
    "    for j in range(num_clusters):\n",
    "        # d是被划归为j类的所有图片，将d中所有图片取平均作为j类的聚类结果\n",
    "        d = data[cluster_ids == j, :]\n",
    "        kmeans_centers[j, :] = np.mean(d, axis=0)\n",
    "end_time = time.time()\n",
    "\n",
    "print(\"K-means聚类共用时\", end_time - start_time, \"秒。\")"
   ]
  },
  {
   "cell_type": "code",
   "execution_count": 73,
   "metadata": {},
   "outputs": [
    {
     "data": {
      "text/plain": [
       "array([[ 0.        , 43.05783068, 44.63363099, ..., 39.90679485,\n",
       "        36.20576532, 31.33316207],\n",
       "       [43.05783068,  0.        , 32.35249443, ..., 18.21782344,\n",
       "        32.86631972, 38.23073508],\n",
       "       [44.63363099, 32.35249443,  0.        , ..., 27.10969884,\n",
       "        33.57728071, 35.7752838 ],\n",
       "       ...,\n",
       "       [30.04148586, 46.01060215, 52.83915857, ..., 44.18114564,\n",
       "        48.37783527, 41.20179171],\n",
       "       [42.68180258, 42.7311493 , 52.68847069, ..., 39.59502127,\n",
       "        47.69930674, 51.5090385 ],\n",
       "       [54.39257507, 25.71545165, 36.90825724, ..., 31.47234156,\n",
       "        43.19288294, 45.66233874]])"
      ]
     },
     "execution_count": 73,
     "metadata": {},
     "output_type": "execute_result"
    }
   ],
   "source": [
    "dist"
   ]
  },
  {
   "cell_type": "code",
   "execution_count": 74,
   "metadata": {
    "collapsed": true
   },
   "outputs": [],
   "source": [
    "cluster_ids = np.argmin(dist,axis=1)"
   ]
  },
  {
   "cell_type": "code",
   "execution_count": 77,
   "metadata": {},
   "outputs": [
    {
     "data": {
      "text/plain": [
       "array([0, 1, 2, 3, 4, 5, 6, 7, 8, 9, 1, 9, 9, 2, 4, 9, 0, 8, 0])"
      ]
     },
     "execution_count": 77,
     "metadata": {},
     "output_type": "execute_result"
    }
   ],
   "source": [
    "cluster_ids[:19]"
   ]
  },
  {
   "cell_type": "code",
   "execution_count": 100,
   "metadata": {
    "scrolled": true
   },
   "outputs": [
    {
     "data": {
      "image/png": "[encoded data removed]",
      "text/plain": [
       "<Figure size 432x288 with 1 Axes>"
      ]
     },
     "metadata": {},
     "output_type": "display_data"
    }
   ],
   "source": [
    "# Plot the loss function. You should observe a curve that is strictly decreasing.\n",
    "plt.figure()\n",
    "plt.plot(np.arange(num_iters), losses, \"o-\", lw=3)\n",
    "plt.grid(True)\n",
    "plt.title(\"Kmeans\")\n",
    "plt.xlabel(\"Iteration Number\")\n",
    "plt.ylabel(\"Objective Loss\")\n",
    "plt.show()"
   ]
  },
  {
   "cell_type": "code",
   "execution_count": 12,
   "metadata": {},
   "outputs": [
    {
     "data": {
      "text/plain": [
       "<Figure size 432x288 with 0 Axes>"
      ]
     },
     "metadata": {},
     "output_type": "display_data"
    },
    {
     "data": {
      "image/png": "[encoded data removed]",
      "text/plain": [
       "<Figure size 288x288 with 1 Axes>"
      ]
     },
     "metadata": {},
     "output_type": "display_data"
    },
    {
     "data": {
      "text/plain": [
       "<Figure size 432x288 with 0 Axes>"
      ]
     },
     "metadata": {},
     "output_type": "display_data"
    },
    {
     "data": {
      "image/png": "[encoded data removed]",
      "text/plain": [
       "<Figure size 288x288 with 1 Axes>"
      ]
     },
     "metadata": {},
     "output_type": "display_data"
    },
    {
     "data": {
      "text/plain": [
       "<Figure size 432x288 with 0 Axes>"
      ]
     },
     "metadata": {},
     "output_type": "display_data"
    },
    {
     "data": {
      "image/png": "[encoded data removed]",
      "text/plain": [
       "<Figure size 288x288 with 1 Axes>"
      ]
     },
     "metadata": {},
     "output_type": "display_data"
    },
    {
     "data": {
      "text/plain": [
       "<Figure size 432x288 with 0 Axes>"
      ]
     },
     "metadata": {},
     "output_type": "display_data"
    },
    {
     "data": {
      "image/png": "[encoded data removed]",
      "text/plain": [
       "<Figure size 288x288 with 1 Axes>"
      ]
     },
     "metadata": {},
     "output_type": "display_data"
    },
    {
     "data": {
      "text/plain": [
       "<Figure size 432x288 with 0 Axes>"
      ]
     },
     "metadata": {},
     "output_type": "display_data"
    },
    {
     "data": {
      "image/png": "[encoded data removed]",
      "text/plain": [
       "<Figure size 288x288 with 1 Axes>"
      ]
     },
     "metadata": {},
     "output_type": "display_data"
    },
    {
     "data": {
      "text/plain": [
       "<Figure size 432x288 with 0 Axes>"
      ]
     },
     "metadata": {},
     "output_type": "display_data"
    },
    {
     "data": {
      "image/png": "[encoded data removed]",
      "text/plain": [
       "<Figure size 288x288 with 1 Axes>"
      ]
     },
     "metadata": {},
     "output_type": "display_data"
    },
    {
     "data": {
      "text/plain": [
       "<Figure size 432x288 with 0 Axes>"
      ]
     },
     "metadata": {},
     "output_type": "display_data"
    },
    {
     "data": {
      "image/png": "[encoded data removed]",
      "text/plain": [
       "<Figure size 288x288 with 1 Axes>"
      ]
     },
     "metadata": {},
     "output_type": "display_data"
    },
    {
     "data": {
      "text/plain": [
       "<Figure size 432x288 with 0 Axes>"
      ]
     },
     "metadata": {},
     "output_type": "display_data"
    },
    {
     "data": {
      "image/png": "[encoded data removed]",
      "text/plain": [
       "<Figure size 288x288 with 1 Axes>"
      ]
     },
     "metadata": {},
     "output_type": "display_data"
    },
    {
     "data": {
      "text/plain": [
       "<Figure size 432x288 with 0 Axes>"
      ]
     },
     "metadata": {},
     "output_type": "display_data"
    },
    {
     "data": {
      "image/png": "[encoded data removed]",
      "text/plain": [
       "<Figure size 288x288 with 1 Axes>"
      ]
     },
     "metadata": {},
     "output_type": "display_data"
    },
    {
     "data": {
      "text/plain": [
       "<Figure size 432x288 with 0 Axes>"
      ]
     },
     "metadata": {},
     "output_type": "display_data"
    },
    {
     "data": {
      "image/png": "[encoded data removed]",
      "text/plain": [
       "<Figure size 288x288 with 1 Axes>"
      ]
     },
     "metadata": {},
     "output_type": "display_data"
    }
   ],
   "source": [
    "# Visualize the center of each cluster. Roughly, you should observe digits 0~9.\n",
    "for j in range(num_clusters):\n",
    "    plt.figure()\n",
    "    plt.gray()\n",
    "    plt.matshow(kmeans_centers[j].reshape(8, 8))\n",
    "    plt.show()"
   ]
  },
  {
   "cell_type": "code",
   "execution_count": 14,
   "metadata": {},
   "outputs": [
    {
     "data": {
      "text/plain": [
       "(10, 64)"
      ]
     },
     "execution_count": 14,
     "metadata": {},
     "output_type": "execute_result"
    }
   ],
   "source": [
    "kmeans_centers.shape"
   ]
  },
  {
   "cell_type": "code",
   "execution_count": 15,
   "metadata": {},
   "outputs": [
    {
     "data": {
      "text/plain": [
       "array([1212.17028381,  756.18592022,  709.57938297,  679.01996026,\n",
       "        673.19426842,  670.89028771,  669.41010061,  668.91528006,\n",
       "        668.70261364,  668.5837532 ])"
      ]
     },
     "execution_count": 15,
     "metadata": {},
     "output_type": "execute_result"
    }
   ],
   "source": [
    "losses"
   ]
  },
  {
   "cell_type": "code",
   "execution_count": 20,
   "metadata": {},
   "outputs": [
    {
     "data": {
      "text/plain": [
       "array([9.35517647e+02, 1.81898940e-12, 1.39381129e+03, 1.30876443e+03,\n",
       "       1.50975584e+03, 1.04747857e+03, 9.89890451e+02, 1.19172287e+03,\n",
       "       5.40591520e+02, 1.09460489e+03])"
      ]
     },
     "execution_count": 20,
     "metadata": {},
     "output_type": "execute_result"
    }
   ],
   "source": [
    "dist[1]\n",
    "# 表示第一张图片与十个聚类中心的距离"
   ]
  },
  {
   "cell_type": "code",
   "execution_count": 22,
   "metadata": {
    "scrolled": true
   },
   "outputs": [
    {
     "data": {
      "text/plain": [
       "1"
      ]
     },
     "execution_count": 22,
     "metadata": {},
     "output_type": "execute_result"
    }
   ],
   "source": [
    "np.argmin(dist[1])"
   ]
  },
  {
   "cell_type": "code",
   "execution_count": 26,
   "metadata": {},
   "outputs": [
    {
     "data": {
      "text/plain": [
       "(1797,)"
      ]
     },
     "execution_count": 26,
     "metadata": {},
     "output_type": "execute_result"
    }
   ],
   "source": [
    "np.min(dist,axis=1).shape"
   ]
  },
  {
   "cell_type": "code",
   "execution_count": 25,
   "metadata": {
    "scrolled": true
   },
   "outputs": [
    {
     "data": {
      "text/plain": [
       "1.8189894035458565e-12"
      ]
     },
     "execution_count": 25,
     "metadata": {},
     "output_type": "execute_result"
    }
   ],
   "source": [
    "np.min(dist,axis=1)[1]"
   ]
  },
  {
   "cell_type": "code",
   "execution_count": 27,
   "metadata": {},
   "outputs": [
    {
     "data": {
      "text/plain": [
       "array([[ 0.        ,  1.45524216, 11.83929356, ..., 11.63419514,\n",
       "         6.33934278,  0.40175603],\n",
       "       [ 0.        ,  1.        , 15.        , ..., 15.        ,\n",
       "        11.        ,  1.        ],\n",
       "       [ 0.        ,  0.        ,  4.        , ...,  6.        ,\n",
       "         0.        ,  0.        ],\n",
       "       ...,\n",
       "       [ 0.        ,  2.        , 16.        , ..., 12.        ,\n",
       "         7.        ,  0.        ],\n",
       "       [ 0.        ,  3.        , 15.        , ..., 12.        ,\n",
       "        11.        ,  1.        ],\n",
       "       [ 0.        ,  4.        , 16.        , ..., 16.        ,\n",
       "         7.        ,  0.        ]])"
      ]
     },
     "execution_count": 27,
     "metadata": {},
     "output_type": "execute_result"
    }
   ],
   "source": [
    "d\n",
    "# d是被划归为j类的所有图片"
   ]
  },
  {
   "cell_type": "code",
   "execution_count": 28,
   "metadata": {},
   "outputs": [
    {
     "data": {
      "text/plain": [
       "(111, 64)"
      ]
     },
     "execution_count": 28,
     "metadata": {},
     "output_type": "execute_result"
    }
   ],
   "source": [
    "d.shape"
   ]
  }
 ],
 "metadata": {
  "kernelspec": {
   "display_name": "Python 3",
   "language": "python",
   "name": "python3"
  },
  "language_info": {
   "codemirror_mode": {
    "name": "ipython",
    "version": 3
   },
   "file_extension": ".py",
   "mimetype": "text/x-python",
   "name": "python",
   "nbconvert_exporter": "python",
   "pygments_lexer": "ipython3",
   "version": "3.7.2"
  }
 },
 "nbformat": 4,
 "nbformat_minor": 2
}
